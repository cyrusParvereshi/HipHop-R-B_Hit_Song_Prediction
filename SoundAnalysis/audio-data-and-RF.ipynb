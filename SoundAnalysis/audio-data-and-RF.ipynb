{
 "cells": [
  {
   "cell_type": "markdown",
   "metadata": {},
   "source": [
    "# Using signals to obtain MFCC Features"
   ]
  },
  {
   "cell_type": "code",
   "execution_count": 71,
   "metadata": {},
   "outputs": [],
   "source": [
    "import pandas as pd\n",
    "import numpy as np\n",
    "\n",
    "from sklearn import model_selection\n",
    "from sklearn.metrics import classification_report, confusion_matrix\n",
    "from sklearn.ensemble import RandomForestClassifier\n",
    "from sklearn.model_selection import train_test_split\n",
    "from sklearn.metrics import accuracy_score\n",
    "from sklearn.model_selection import cross_val_score\n",
    "from sklearn.metrics import classification_report, confusion_matrix\n",
    "from sklearn.model_selection import RandomizedSearchCV\n",
    "from sklearn.metrics import roc_curve, auc"
   ]
  },
  {
   "cell_type": "markdown",
   "metadata": {},
   "source": [
    "* signal – the audio signal from which to compute features. Should be an N*1 array\n",
    "* samplerate – the samplerate of the signal we are working with.\n",
    "* winlen – the length of the analysis window in seconds. Default is 0.025s (25 milliseconds)\n",
    "* winstep – the step between successive windows in seconds. Default is 0.01s (10 milliseconds)\n",
    "* numcep – the number of cepstrum to return, default 13\n",
    "* nfilt – the number of filters in the filterbank, default 26.\n",
    "* nfft – the FFT size. Default is 512.\n",
    "* lowfreq – lowest band edge of mel filters. In Hz, default is 0.\n",
    "* highfreq – highest band edge of mel filters. In Hz, default is samplerate/2\n",
    "* preemph – apply preemphasis filter with preemph as coefficient. 0 is no filter. Default is 0.97.\n",
    "* ceplifter – apply a lifter to final cepstral coefficients. 0 is no lifter. Default is 22.\n",
    "* appendEnergy – if this is true, the zeroth cepstral coefficient is replaced with the log of the total frame energy.\n",
    "* winfunc – the analysis window to apply to each frame. By default no window is applied. You can use numpy window functions here e.g. winfunc=numpy.hamming"
   ]
  },
  {
   "cell_type": "markdown",
   "metadata": {},
   "source": [
    "HotBoy -  1\n",
    "Sunflower -1\n",
    "ILikeIt - 1\n",
    "Rockstar - 1\n",
    "Starboy - 1\n",
    "\n",
    "\n",
    "MLKDream - 0\n",
    "jungle - 0 \n",
    "GetMine - 0\n",
    "AtTheClub - 0\n",
    "FineChina - 0\n"
   ]
  },
  {
   "cell_type": "code",
   "execution_count": null,
   "metadata": {},
   "outputs": [],
   "source": [
    "from python_speech_features import mfcc\n",
    "from python_speech_features import delta\n",
    "from python_speech_features import logfbank\n",
    "import scipy.io.wavfile as wav"
   ]
  },
  {
   "cell_type": "code",
   "execution_count": 73,
   "metadata": {},
   "outputs": [
    {
     "name": "stderr",
     "output_type": "stream",
     "text": [
      "WARNING:root:frame length (1103) is greater than FFT size (512), frame will be truncated. Increase NFFT to avoid.\n",
      "WARNING:root:frame length (1103) is greater than FFT size (512), frame will be truncated. Increase NFFT to avoid.\n",
      "WARNING:root:frame length (1103) is greater than FFT size (512), frame will be truncated. Increase NFFT to avoid.\n",
      "WARNING:root:frame length (1103) is greater than FFT size (512), frame will be truncated. Increase NFFT to avoid.\n",
      "WARNING:root:frame length (1103) is greater than FFT size (512), frame will be truncated. Increase NFFT to avoid.\n"
     ]
    }
   ],
   "source": [
    "(rate,sig) = wav.read(\"HotBoy.wav\")\n",
    "mfcc_feat = mfcc(sig,rate)\n",
    "#d_mfcc_feat = delta(mfcc_feat, 2)\n",
    "#fbank_feat = logfbank(sig,rate)\n",
    "#hot_boy = pd.DataFrame(np.mean(fbank_feat, axis=0)).transpose()\n",
    "one = pd.DataFrame(np.mean(mfcc_feat,axis=0)).transpose()\n",
    "one['is_hit'] = 1\n",
    "\n",
    "(rate,sig) = wav.read(\"Sunflower.wav\")\n",
    "mfcc_feat = mfcc(sig,rate)\n",
    "two = pd.DataFrame(np.mean(mfcc_feat,axis=0)).transpose()\n",
    "two['is_hit'] = 1\n",
    "\n",
    "(rate,sig) = wav.read(\"ILikeIt.wav\")\n",
    "mfcc_feat = mfcc(sig,rate)\n",
    "three = pd.DataFrame(np.mean(mfcc_feat,axis=0)).transpose()\n",
    "three['is_hit'] = 1\n",
    "\n",
    "(rate,sig) = wav.read(\"Rockstar.wav\")\n",
    "mfcc_feat = mfcc(sig,rate)\n",
    "four = pd.DataFrame(np.mean(mfcc_feat,axis=0)).transpose()\n",
    "four['is_hit'] = 1\n",
    "\n",
    "(rate,sig) = wav.read(\"Starboy.wav\")\n",
    "mfcc_feat = mfcc(sig,rate)\n",
    "five = pd.DataFrame(np.mean(mfcc_feat,axis=0)).transpose()\n",
    "five['is_hit'] = 1"
   ]
  },
  {
   "cell_type": "code",
   "execution_count": 72,
   "metadata": {},
   "outputs": [
    {
     "name": "stderr",
     "output_type": "stream",
     "text": [
      "WARNING:root:frame length (551) is greater than FFT size (512), frame will be truncated. Increase NFFT to avoid.\n",
      "WARNING:root:frame length (1103) is greater than FFT size (512), frame will be truncated. Increase NFFT to avoid.\n",
      "WARNING:root:frame length (1103) is greater than FFT size (512), frame will be truncated. Increase NFFT to avoid.\n",
      "WARNING:root:frame length (1103) is greater than FFT size (512), frame will be truncated. Increase NFFT to avoid.\n",
      "WARNING:root:frame length (1103) is greater than FFT size (512), frame will be truncated. Increase NFFT to avoid.\n"
     ]
    }
   ],
   "source": [
    "(rate,sig) = wav.read(\"MLKDream.wav\")\n",
    "mfcc_feat = mfcc(sig,rate)\n",
    "six = pd.DataFrame(np.mean(mfcc_feat,axis=0)).transpose()\n",
    "six['is_hit'] = 0\n",
    "\n",
    "(rate,sig) = wav.read(\"jungle.wav\")\n",
    "mfcc_feat = mfcc(sig,rate)\n",
    "seven = pd.DataFrame(np.mean(mfcc_feat,axis=0)).transpose()\n",
    "seven['is_hit'] = 0\n",
    "\n",
    "(rate,sig) = wav.read(\"GetMine.wav\")\n",
    "mfcc_feat = mfcc(sig,rate)\n",
    "eight = pd.DataFrame(np.mean(mfcc_feat,axis=0)).transpose()\n",
    "eight['is_hit'] = 0\n",
    "\n",
    "(rate,sig) = wav.read(\"AtTheClub.wav\")\n",
    "mfcc_feat = mfcc(sig,rate)\n",
    "nine = pd.DataFrame(np.mean(mfcc_feat,axis=0)).transpose()\n",
    "nine['is_hit'] = 0\n",
    "\n",
    "(rate,sig) = wav.read(\"FineChina.wav\")\n",
    "mfcc_feat = mfcc(sig,rate)\n",
    "ten = pd.DataFrame(np.mean(mfcc_feat,axis=0)).transpose()\n",
    "ten['is_hit'] = 0\n"
   ]
  },
  {
   "cell_type": "code",
   "execution_count": 74,
   "metadata": {},
   "outputs": [],
   "source": [
    "final = one.append(two, ignore_index=True)\n",
    "final = final.append(three, ignore_index=True)\n",
    "final = final.append(four, ignore_index=True)\n",
    "final = final.append(five, ignore_index=True)\n",
    "final = final.append(six, ignore_index=True)\n",
    "final = final.append(seven, ignore_index=True)\n",
    "final = final.append(eight, ignore_index=True)\n",
    "final = final.append(nine, ignore_index=True)\n",
    "final = final.append(ten, ignore_index=True)"
   ]
  },
  {
   "cell_type": "code",
   "execution_count": 75,
   "metadata": {},
   "outputs": [
    {
     "data": {
      "text/html": [
       "<div>\n",
       "<style scoped>\n",
       "    .dataframe tbody tr th:only-of-type {\n",
       "        vertical-align: middle;\n",
       "    }\n",
       "\n",
       "    .dataframe tbody tr th {\n",
       "        vertical-align: top;\n",
       "    }\n",
       "\n",
       "    .dataframe thead th {\n",
       "        text-align: right;\n",
       "    }\n",
       "</style>\n",
       "<table border=\"1\" class=\"dataframe\">\n",
       "  <thead>\n",
       "    <tr style=\"text-align: right;\">\n",
       "      <th></th>\n",
       "      <th>0</th>\n",
       "      <th>1</th>\n",
       "      <th>2</th>\n",
       "      <th>3</th>\n",
       "      <th>4</th>\n",
       "      <th>5</th>\n",
       "      <th>6</th>\n",
       "      <th>7</th>\n",
       "      <th>8</th>\n",
       "      <th>9</th>\n",
       "      <th>10</th>\n",
       "      <th>11</th>\n",
       "      <th>12</th>\n",
       "      <th>is_hit</th>\n",
       "    </tr>\n",
       "  </thead>\n",
       "  <tbody>\n",
       "    <tr>\n",
       "      <th>0</th>\n",
       "      <td>18.492276</td>\n",
       "      <td>10.332741</td>\n",
       "      <td>-14.095161</td>\n",
       "      <td>-14.755182</td>\n",
       "      <td>22.812128</td>\n",
       "      <td>-41.080560</td>\n",
       "      <td>24.291515</td>\n",
       "      <td>-19.384292</td>\n",
       "      <td>-1.988264</td>\n",
       "      <td>6.711872</td>\n",
       "      <td>-7.014448</td>\n",
       "      <td>1.888141</td>\n",
       "      <td>-0.489726</td>\n",
       "      <td>1</td>\n",
       "    </tr>\n",
       "    <tr>\n",
       "      <th>1</th>\n",
       "      <td>18.829886</td>\n",
       "      <td>15.227135</td>\n",
       "      <td>-6.163772</td>\n",
       "      <td>-12.996859</td>\n",
       "      <td>25.377363</td>\n",
       "      <td>-36.513184</td>\n",
       "      <td>22.272397</td>\n",
       "      <td>-20.239632</td>\n",
       "      <td>-8.689257</td>\n",
       "      <td>-6.772696</td>\n",
       "      <td>-0.119384</td>\n",
       "      <td>-2.187521</td>\n",
       "      <td>-0.281808</td>\n",
       "      <td>1</td>\n",
       "    </tr>\n",
       "    <tr>\n",
       "      <th>2</th>\n",
       "      <td>19.544789</td>\n",
       "      <td>11.458744</td>\n",
       "      <td>-13.363123</td>\n",
       "      <td>-20.034201</td>\n",
       "      <td>24.453032</td>\n",
       "      <td>-41.312218</td>\n",
       "      <td>26.694799</td>\n",
       "      <td>-18.305884</td>\n",
       "      <td>-2.328175</td>\n",
       "      <td>0.656279</td>\n",
       "      <td>-6.955135</td>\n",
       "      <td>1.901923</td>\n",
       "      <td>2.360378</td>\n",
       "      <td>1</td>\n",
       "    </tr>\n",
       "    <tr>\n",
       "      <th>3</th>\n",
       "      <td>17.001445</td>\n",
       "      <td>13.360960</td>\n",
       "      <td>-0.446789</td>\n",
       "      <td>-10.022686</td>\n",
       "      <td>22.314148</td>\n",
       "      <td>-38.592228</td>\n",
       "      <td>28.435354</td>\n",
       "      <td>-14.097012</td>\n",
       "      <td>-2.668326</td>\n",
       "      <td>1.125349</td>\n",
       "      <td>-4.401842</td>\n",
       "      <td>1.890709</td>\n",
       "      <td>4.143143</td>\n",
       "      <td>1</td>\n",
       "    </tr>\n",
       "    <tr>\n",
       "      <th>4</th>\n",
       "      <td>18.549076</td>\n",
       "      <td>10.037066</td>\n",
       "      <td>-6.512212</td>\n",
       "      <td>-9.687447</td>\n",
       "      <td>24.681812</td>\n",
       "      <td>-38.444779</td>\n",
       "      <td>35.410108</td>\n",
       "      <td>-13.901642</td>\n",
       "      <td>-5.405690</td>\n",
       "      <td>4.824123</td>\n",
       "      <td>-9.279814</td>\n",
       "      <td>8.575719</td>\n",
       "      <td>3.932357</td>\n",
       "      <td>1</td>\n",
       "    </tr>\n",
       "    <tr>\n",
       "      <th>5</th>\n",
       "      <td>18.402016</td>\n",
       "      <td>-10.113751</td>\n",
       "      <td>-27.759714</td>\n",
       "      <td>-6.937497</td>\n",
       "      <td>-13.098134</td>\n",
       "      <td>-14.731433</td>\n",
       "      <td>-17.463871</td>\n",
       "      <td>-12.132240</td>\n",
       "      <td>-3.576254</td>\n",
       "      <td>9.235140</td>\n",
       "      <td>-0.823902</td>\n",
       "      <td>-3.826428</td>\n",
       "      <td>0.354375</td>\n",
       "      <td>0</td>\n",
       "    </tr>\n",
       "    <tr>\n",
       "      <th>6</th>\n",
       "      <td>18.216616</td>\n",
       "      <td>15.845690</td>\n",
       "      <td>-6.539315</td>\n",
       "      <td>-23.923180</td>\n",
       "      <td>21.731667</td>\n",
       "      <td>-33.086275</td>\n",
       "      <td>21.673082</td>\n",
       "      <td>-17.379352</td>\n",
       "      <td>1.620039</td>\n",
       "      <td>-13.132196</td>\n",
       "      <td>-2.064081</td>\n",
       "      <td>-5.914801</td>\n",
       "      <td>7.185053</td>\n",
       "      <td>0</td>\n",
       "    </tr>\n",
       "    <tr>\n",
       "      <th>7</th>\n",
       "      <td>17.919292</td>\n",
       "      <td>14.070864</td>\n",
       "      <td>-5.339703</td>\n",
       "      <td>-8.413132</td>\n",
       "      <td>25.815008</td>\n",
       "      <td>-39.231571</td>\n",
       "      <td>22.545458</td>\n",
       "      <td>-13.970593</td>\n",
       "      <td>0.586498</td>\n",
       "      <td>0.196203</td>\n",
       "      <td>-10.791452</td>\n",
       "      <td>-2.912859</td>\n",
       "      <td>1.912392</td>\n",
       "      <td>0</td>\n",
       "    </tr>\n",
       "    <tr>\n",
       "      <th>8</th>\n",
       "      <td>18.381435</td>\n",
       "      <td>5.711339</td>\n",
       "      <td>-13.959252</td>\n",
       "      <td>-5.981980</td>\n",
       "      <td>34.466062</td>\n",
       "      <td>-38.915265</td>\n",
       "      <td>29.718576</td>\n",
       "      <td>-13.599698</td>\n",
       "      <td>-3.295196</td>\n",
       "      <td>7.451530</td>\n",
       "      <td>-17.327299</td>\n",
       "      <td>5.215666</td>\n",
       "      <td>-3.423490</td>\n",
       "      <td>0</td>\n",
       "    </tr>\n",
       "    <tr>\n",
       "      <th>9</th>\n",
       "      <td>18.119846</td>\n",
       "      <td>9.424380</td>\n",
       "      <td>-12.042908</td>\n",
       "      <td>-10.491722</td>\n",
       "      <td>17.994705</td>\n",
       "      <td>-48.067717</td>\n",
       "      <td>25.318080</td>\n",
       "      <td>-13.294245</td>\n",
       "      <td>-4.034145</td>\n",
       "      <td>3.637104</td>\n",
       "      <td>-16.724443</td>\n",
       "      <td>9.061200</td>\n",
       "      <td>1.250258</td>\n",
       "      <td>0</td>\n",
       "    </tr>\n",
       "  </tbody>\n",
       "</table>\n",
       "</div>"
      ],
      "text/plain": [
       "           0          1          2          3          4          5  \\\n",
       "0  18.492276  10.332741 -14.095161 -14.755182  22.812128 -41.080560   \n",
       "1  18.829886  15.227135  -6.163772 -12.996859  25.377363 -36.513184   \n",
       "2  19.544789  11.458744 -13.363123 -20.034201  24.453032 -41.312218   \n",
       "3  17.001445  13.360960  -0.446789 -10.022686  22.314148 -38.592228   \n",
       "4  18.549076  10.037066  -6.512212  -9.687447  24.681812 -38.444779   \n",
       "5  18.402016 -10.113751 -27.759714  -6.937497 -13.098134 -14.731433   \n",
       "6  18.216616  15.845690  -6.539315 -23.923180  21.731667 -33.086275   \n",
       "7  17.919292  14.070864  -5.339703  -8.413132  25.815008 -39.231571   \n",
       "8  18.381435   5.711339 -13.959252  -5.981980  34.466062 -38.915265   \n",
       "9  18.119846   9.424380 -12.042908 -10.491722  17.994705 -48.067717   \n",
       "\n",
       "           6          7         8          9         10        11        12  \\\n",
       "0  24.291515 -19.384292 -1.988264   6.711872  -7.014448  1.888141 -0.489726   \n",
       "1  22.272397 -20.239632 -8.689257  -6.772696  -0.119384 -2.187521 -0.281808   \n",
       "2  26.694799 -18.305884 -2.328175   0.656279  -6.955135  1.901923  2.360378   \n",
       "3  28.435354 -14.097012 -2.668326   1.125349  -4.401842  1.890709  4.143143   \n",
       "4  35.410108 -13.901642 -5.405690   4.824123  -9.279814  8.575719  3.932357   \n",
       "5 -17.463871 -12.132240 -3.576254   9.235140  -0.823902 -3.826428  0.354375   \n",
       "6  21.673082 -17.379352  1.620039 -13.132196  -2.064081 -5.914801  7.185053   \n",
       "7  22.545458 -13.970593  0.586498   0.196203 -10.791452 -2.912859  1.912392   \n",
       "8  29.718576 -13.599698 -3.295196   7.451530 -17.327299  5.215666 -3.423490   \n",
       "9  25.318080 -13.294245 -4.034145   3.637104 -16.724443  9.061200  1.250258   \n",
       "\n",
       "   is_hit  \n",
       "0       1  \n",
       "1       1  \n",
       "2       1  \n",
       "3       1  \n",
       "4       1  \n",
       "5       0  \n",
       "6       0  \n",
       "7       0  \n",
       "8       0  \n",
       "9       0  "
      ]
     },
     "execution_count": 75,
     "metadata": {},
     "output_type": "execute_result"
    }
   ],
   "source": [
    "final"
   ]
  },
  {
   "cell_type": "code",
   "execution_count": 76,
   "metadata": {},
   "outputs": [
    {
     "data": {
      "text/html": [
       "<div>\n",
       "<style scoped>\n",
       "    .dataframe tbody tr th:only-of-type {\n",
       "        vertical-align: middle;\n",
       "    }\n",
       "\n",
       "    .dataframe tbody tr th {\n",
       "        vertical-align: top;\n",
       "    }\n",
       "\n",
       "    .dataframe thead th {\n",
       "        text-align: right;\n",
       "    }\n",
       "</style>\n",
       "<table border=\"1\" class=\"dataframe\">\n",
       "  <thead>\n",
       "    <tr style=\"text-align: right;\">\n",
       "      <th></th>\n",
       "      <th>0</th>\n",
       "      <th>1</th>\n",
       "      <th>2</th>\n",
       "      <th>3</th>\n",
       "      <th>4</th>\n",
       "      <th>5</th>\n",
       "      <th>6</th>\n",
       "      <th>7</th>\n",
       "      <th>8</th>\n",
       "      <th>9</th>\n",
       "      <th>10</th>\n",
       "      <th>11</th>\n",
       "      <th>12</th>\n",
       "      <th>is_hit</th>\n",
       "    </tr>\n",
       "  </thead>\n",
       "  <tbody>\n",
       "    <tr>\n",
       "      <th>count</th>\n",
       "      <td>10.000000</td>\n",
       "      <td>10.000000</td>\n",
       "      <td>10.000000</td>\n",
       "      <td>10.000000</td>\n",
       "      <td>10.000000</td>\n",
       "      <td>10.000000</td>\n",
       "      <td>10.000000</td>\n",
       "      <td>10.000000</td>\n",
       "      <td>10.000000</td>\n",
       "      <td>10.000000</td>\n",
       "      <td>10.000000</td>\n",
       "      <td>10.000000</td>\n",
       "      <td>10.000000</td>\n",
       "      <td>10.000000</td>\n",
       "    </tr>\n",
       "    <tr>\n",
       "      <th>mean</th>\n",
       "      <td>18.345668</td>\n",
       "      <td>9.535517</td>\n",
       "      <td>-10.622195</td>\n",
       "      <td>-12.324389</td>\n",
       "      <td>20.654779</td>\n",
       "      <td>-36.997523</td>\n",
       "      <td>21.889550</td>\n",
       "      <td>-15.630459</td>\n",
       "      <td>-2.977877</td>\n",
       "      <td>1.393271</td>\n",
       "      <td>-7.550180</td>\n",
       "      <td>1.369175</td>\n",
       "      <td>1.694293</td>\n",
       "      <td>0.500000</td>\n",
       "    </tr>\n",
       "    <tr>\n",
       "      <th>std</th>\n",
       "      <td>0.649450</td>\n",
       "      <td>7.547866</td>\n",
       "      <td>7.537360</td>\n",
       "      <td>5.778185</td>\n",
       "      <td>12.584066</td>\n",
       "      <td>8.707944</td>\n",
       "      <td>14.440979</td>\n",
       "      <td>2.895727</td>\n",
       "      <td>2.895043</td>\n",
       "      <td>6.855740</td>\n",
       "      <td>6.095231</td>\n",
       "      <td>5.139808</td>\n",
       "      <td>2.953428</td>\n",
       "      <td>0.527046</td>\n",
       "    </tr>\n",
       "    <tr>\n",
       "      <th>min</th>\n",
       "      <td>17.001445</td>\n",
       "      <td>-10.113751</td>\n",
       "      <td>-27.759714</td>\n",
       "      <td>-23.923180</td>\n",
       "      <td>-13.098134</td>\n",
       "      <td>-48.067717</td>\n",
       "      <td>-17.463871</td>\n",
       "      <td>-20.239632</td>\n",
       "      <td>-8.689257</td>\n",
       "      <td>-13.132196</td>\n",
       "      <td>-17.327299</td>\n",
       "      <td>-5.914801</td>\n",
       "      <td>-3.423490</td>\n",
       "      <td>0.000000</td>\n",
       "    </tr>\n",
       "    <tr>\n",
       "      <th>25%</th>\n",
       "      <td>18.144038</td>\n",
       "      <td>9.577551</td>\n",
       "      <td>-13.810220</td>\n",
       "      <td>-14.315601</td>\n",
       "      <td>21.877287</td>\n",
       "      <td>-40.618313</td>\n",
       "      <td>22.340662</td>\n",
       "      <td>-18.074251</td>\n",
       "      <td>-3.919673</td>\n",
       "      <td>0.311222</td>\n",
       "      <td>-10.413542</td>\n",
       "      <td>-2.731524</td>\n",
       "      <td>-0.122762</td>\n",
       "      <td>0.000000</td>\n",
       "    </tr>\n",
       "    <tr>\n",
       "      <th>50%</th>\n",
       "      <td>18.391725</td>\n",
       "      <td>10.895742</td>\n",
       "      <td>-9.291112</td>\n",
       "      <td>-10.257204</td>\n",
       "      <td>23.632580</td>\n",
       "      <td>-38.753746</td>\n",
       "      <td>24.804797</td>\n",
       "      <td>-14.033802</td>\n",
       "      <td>-2.981761</td>\n",
       "      <td>2.381227</td>\n",
       "      <td>-6.984791</td>\n",
       "      <td>1.889425</td>\n",
       "      <td>1.581325</td>\n",
       "      <td>0.500000</td>\n",
       "    </tr>\n",
       "    <tr>\n",
       "      <th>75%</th>\n",
       "      <td>18.534876</td>\n",
       "      <td>13.893388</td>\n",
       "      <td>-6.250882</td>\n",
       "      <td>-8.731710</td>\n",
       "      <td>25.203475</td>\n",
       "      <td>-36.996083</td>\n",
       "      <td>28.000215</td>\n",
       "      <td>-13.675184</td>\n",
       "      <td>-2.073242</td>\n",
       "      <td>6.239934</td>\n",
       "      <td>-2.648521</td>\n",
       "      <td>4.387230</td>\n",
       "      <td>3.539362</td>\n",
       "      <td>1.000000</td>\n",
       "    </tr>\n",
       "    <tr>\n",
       "      <th>max</th>\n",
       "      <td>19.544789</td>\n",
       "      <td>15.845690</td>\n",
       "      <td>-0.446789</td>\n",
       "      <td>-5.981980</td>\n",
       "      <td>34.466062</td>\n",
       "      <td>-14.731433</td>\n",
       "      <td>35.410108</td>\n",
       "      <td>-12.132240</td>\n",
       "      <td>1.620039</td>\n",
       "      <td>9.235140</td>\n",
       "      <td>-0.119384</td>\n",
       "      <td>9.061200</td>\n",
       "      <td>7.185053</td>\n",
       "      <td>1.000000</td>\n",
       "    </tr>\n",
       "  </tbody>\n",
       "</table>\n",
       "</div>"
      ],
      "text/plain": [
       "               0          1          2          3          4          5  \\\n",
       "count  10.000000  10.000000  10.000000  10.000000  10.000000  10.000000   \n",
       "mean   18.345668   9.535517 -10.622195 -12.324389  20.654779 -36.997523   \n",
       "std     0.649450   7.547866   7.537360   5.778185  12.584066   8.707944   \n",
       "min    17.001445 -10.113751 -27.759714 -23.923180 -13.098134 -48.067717   \n",
       "25%    18.144038   9.577551 -13.810220 -14.315601  21.877287 -40.618313   \n",
       "50%    18.391725  10.895742  -9.291112 -10.257204  23.632580 -38.753746   \n",
       "75%    18.534876  13.893388  -6.250882  -8.731710  25.203475 -36.996083   \n",
       "max    19.544789  15.845690  -0.446789  -5.981980  34.466062 -14.731433   \n",
       "\n",
       "               6          7          8          9         10         11  \\\n",
       "count  10.000000  10.000000  10.000000  10.000000  10.000000  10.000000   \n",
       "mean   21.889550 -15.630459  -2.977877   1.393271  -7.550180   1.369175   \n",
       "std    14.440979   2.895727   2.895043   6.855740   6.095231   5.139808   \n",
       "min   -17.463871 -20.239632  -8.689257 -13.132196 -17.327299  -5.914801   \n",
       "25%    22.340662 -18.074251  -3.919673   0.311222 -10.413542  -2.731524   \n",
       "50%    24.804797 -14.033802  -2.981761   2.381227  -6.984791   1.889425   \n",
       "75%    28.000215 -13.675184  -2.073242   6.239934  -2.648521   4.387230   \n",
       "max    35.410108 -12.132240   1.620039   9.235140  -0.119384   9.061200   \n",
       "\n",
       "              12     is_hit  \n",
       "count  10.000000  10.000000  \n",
       "mean    1.694293   0.500000  \n",
       "std     2.953428   0.527046  \n",
       "min    -3.423490   0.000000  \n",
       "25%    -0.122762   0.000000  \n",
       "50%     1.581325   0.500000  \n",
       "75%     3.539362   1.000000  \n",
       "max     7.185053   1.000000  "
      ]
     },
     "execution_count": 76,
     "metadata": {},
     "output_type": "execute_result"
    }
   ],
   "source": [
    "final.describe()\n",
    "# higher variance -> better at explaining?"
   ]
  },
  {
   "cell_type": "code",
   "execution_count": 108,
   "metadata": {},
   "outputs": [],
   "source": [
    "# Splitting the test data into the predictor and response variables \n",
    "X = final.iloc[:, :-1].values  \n",
    "y = final.iloc[:, -1].values  \n",
    "\n",
    "# Predicting y values from test data using the model and coefficents found in part A\n",
    "X_train, X_test, y_train, y_test = train_test_split(X, y, test_size=0.40, random_state=1)\n",
    "\n",
    "# random forest model creation\n",
    "rfc = RandomForestClassifier(n_estimators=25)\n",
    "rfc.fit(X_train,y_train)\n",
    "\n",
    "# predictions\n",
    "y_predict = rfc.predict(X_test)"
   ]
  },
  {
   "cell_type": "code",
   "execution_count": 109,
   "metadata": {},
   "outputs": [
    {
     "name": "stdout",
     "output_type": "stream",
     "text": [
      "The accuracy rate is: 0.75\n"
     ]
    }
   ],
   "source": [
    "accuracy = accuracy_score(y_test, y_predict)\n",
    "print(\"The accuracy rate is:\", accuracy)"
   ]
  },
  {
   "cell_type": "code",
   "execution_count": 110,
   "metadata": {},
   "outputs": [
    {
     "data": {
      "text/plain": [
       "0.75"
      ]
     },
     "execution_count": 110,
     "metadata": {},
     "output_type": "execute_result"
    }
   ],
   "source": [
    "false_positive_rate, true_positive_rate, thresholds = roc_curve(y_test, y_predict)\n",
    "base_roc_auc = auc(false_positive_rate, true_positive_rate)\n",
    "base_roc_auc"
   ]
  },
  {
   "cell_type": "markdown",
   "metadata": {},
   "source": [
    "# Feature Importance"
   ]
  },
  {
   "cell_type": "code",
   "execution_count": 82,
   "metadata": {},
   "outputs": [
    {
     "name": "stdout",
     "output_type": "stream",
     "text": [
      "Variable:                    3 Importance: 0.2\n",
      "Variable:                    9 Importance: 0.16\n",
      "Variable:                   10 Importance: 0.14\n",
      "Variable:                   11 Importance: 0.12\n",
      "Variable:                    1 Importance: 0.08\n",
      "Variable:                    2 Importance: 0.06\n",
      "Variable:                    0 Importance: 0.04\n",
      "Variable:                    5 Importance: 0.04\n",
      "Variable:                    7 Importance: 0.04\n",
      "Variable:                   12 Importance: 0.04\n",
      "Variable:                    4 Importance: 0.0\n",
      "Variable:                    6 Importance: 0.0\n",
      "Variable:                    8 Importance: 0.0\n"
     ]
    }
   ],
   "source": [
    "importances = list(rfc.feature_importances_)\n",
    "feature_list = list(final.drop('is_hit', axis=1).columns)\n",
    "\n",
    "# Get numerical feature importances\n",
    "importances = list(rfc.feature_importances_)\n",
    "\n",
    "# List of tuples with variable and importance\n",
    "feature_importances = [(feature, round(importance, 2)) for feature, importance in zip(feature_list, importances)]\n",
    "\n",
    "# Sort the feature importances by most important first\n",
    "feature_importances = sorted(feature_importances, key = lambda x: x[1], reverse = True)\n",
    "\n",
    "# Print out the feature and importances \n",
    "items = [print('Variable: {:20} Importance: {}'.format(*pair)) for pair in feature_importances]"
   ]
  },
  {
   "cell_type": "code",
   "execution_count": 83,
   "metadata": {},
   "outputs": [
    {
     "data": {
      "image/png": "[encoded data removed]",
      "text/plain": [
       "<Figure size 432x288 with 1 Axes>"
      ]
     },
     "metadata": {
      "needs_background": "light"
     },
     "output_type": "display_data"
    }
   ],
   "source": [
    "# list of x locations for plotting\n",
    "x_values = list(range(len(importances)))\n",
    "\n",
    "# Make a bar chart\n",
    "plt.bar(x_values, importances, orientation = 'vertical', color = 'r', edgecolor = 'k', linewidth = 1.2)\n",
    "\n",
    "# Tick labels for x axis\n",
    "plt.xticks(x_values, feature_list, rotation='vertical')\n",
    "\n",
    "# Axis labels and title\n",
    "plt.ylabel('Importance'); plt.xlabel('Variable'); plt.title('Variable Importances');"
   ]
  },
  {
   "cell_type": "code",
   "execution_count": 84,
   "metadata": {},
   "outputs": [
    {
     "data": {
      "image/png": "[encoded data removed]",
      "text/plain": [
       "<Figure size 432x288 with 1 Axes>"
      ]
     },
     "metadata": {
      "needs_background": "light"
     },
     "output_type": "display_data"
    }
   ],
   "source": [
    "# List of features sorted from most to least important\n",
    "sorted_importances = [importance[1] for importance in feature_importances]\n",
    "sorted_features = [importance[0] for importance in feature_importances]\n",
    "\n",
    "# Cumulative importances\n",
    "cumulative_importances = np.cumsum(sorted_importances)\n",
    "\n",
    "# Make a line graph\n",
    "plt.plot(x_values, cumulative_importances, 'g-')\n",
    "\n",
    "# Draw line at 95% of importance retained\n",
    "plt.hlines(y = 0.9, xmin=0, xmax=len(sorted_importances), color = 'r', linestyles = 'dashed')\n",
    "\n",
    "# Format x ticks and labels\n",
    "plt.xticks(x_values, sorted_features, rotation = 'vertical')\n",
    "\n",
    "# Axis labels and title\n",
    "plt.xlabel('Variable'); plt.ylabel('Cumulative Importance'); plt.title('Cumulative Importances');"
   ]
  },
  {
   "cell_type": "code",
   "execution_count": 107,
   "metadata": {},
   "outputs": [
    {
     "data": {
      "text/plain": [
       "0.75"
      ]
     },
     "execution_count": 107,
     "metadata": {},
     "output_type": "execute_result"
    }
   ],
   "source": [
    "# Extract the names of the most important features\n",
    "important_feature_names = [feature[0] for feature in feature_importances[0:10]]\n",
    "\n",
    "X = pd.DataFrame(X)\n",
    "\n",
    "# Create training and testing sets with only the important features\n",
    "important_X = X[important_feature_names] # this removes unimportant features\n",
    "y = y # y remains the same\n",
    "\n",
    "# implementing train-test-split on important features\n",
    "X_train, X_test, y_train, y_test = train_test_split(important_X, y, test_size=0.40, random_state=1)\n",
    "\n",
    "# random forest model creation\n",
    "rfc = RandomForestClassifier(n_estimators=25)\n",
    "rfc.fit(X_train,y_train)\n",
    "\n",
    "# predictions\n",
    "y_predict = rfc.predict(X_test)\n",
    "\n",
    "# AUC Score\n",
    "false_positive_rate, true_positive_rate, thresholds = roc_curve(y_test, y_predict)\n",
    "base_roc_auc = auc(false_positive_rate, true_positive_rate)\n",
    "base_roc_auc"
   ]
  },
  {
   "cell_type": "markdown",
   "metadata": {},
   "source": [
    "# Hyper Parameter Tuning"
   ]
  },
  {
   "cell_type": "code",
   "execution_count": 100,
   "metadata": {},
   "outputs": [
    {
     "name": "stdout",
     "output_type": "stream",
     "text": [
      "{'bootstrap': [True, False],\n",
      " 'max_depth': [5, 10, 15, 20, None],\n",
      " 'max_features': ['auto', 'sqrt'],\n",
      " 'min_samples_leaf': [1, 2, 4],\n",
      " 'min_samples_split': [2, 5, 10],\n",
      " 'n_estimators': [10, 20, 25, 30]}\n"
     ]
    }
   ],
   "source": [
    "from sklearn.model_selection import RandomizedSearchCV\n",
    "\n",
    "from pprint import pprint\n",
    "import matplotlib.pyplot as plt\n",
    "\n",
    "\n",
    "# Number of trees in random forest\n",
    "n_estimators= [10,20,25,30]\n",
    "\n",
    "# Number of features to consider at every split\n",
    "max_features = ['auto', 'sqrt']\n",
    "\n",
    "# Maximum number of levels in tree\n",
    "max_depth = [5,10,15,20]\n",
    "max_depth.append(None)\n",
    "\n",
    "# Minimum number of samples required to split a node\n",
    "min_samples_split = [2, 5, 10]\n",
    "\n",
    "# Minimum number of samples required at each leaf node\n",
    "min_samples_leaf = [1, 2, 4]\n",
    "\n",
    "# Method of selecting samples for training each tree\n",
    "bootstrap = [True, False]\n",
    "\n",
    "# Create the random grid\n",
    "random_grid = {'n_estimators': n_estimators,\n",
    "               'max_features': max_features,\n",
    "               'max_depth': max_depth,\n",
    "               'min_samples_split': min_samples_split,\n",
    "               'min_samples_leaf': min_samples_leaf,\n",
    "               'bootstrap': bootstrap}\n",
    "\n",
    "pprint(random_grid)"
   ]
  },
  {
   "cell_type": "code",
   "execution_count": 101,
   "metadata": {},
   "outputs": [
    {
     "name": "stdout",
     "output_type": "stream",
     "text": [
      "Fitting 3 folds for each of 25 candidates, totalling 75 fits\n"
     ]
    },
    {
     "name": "stderr",
     "output_type": "stream",
     "text": [
      "[Parallel(n_jobs=-1)]: Using backend LokyBackend with 8 concurrent workers.\n",
      "[Parallel(n_jobs=-1)]: Done  25 tasks      | elapsed:   11.8s\n",
      "[Parallel(n_jobs=-1)]: Done  75 out of  75 | elapsed:   12.2s finished\n",
      "C:\\Users\\Jonathan\\Anaconda3\\lib\\site-packages\\sklearn\\model_selection\\_search.py:841: DeprecationWarning: The default of the `iid` parameter will change from True to False in version 0.22 and will be removed in 0.24. This will change numeric results when test-set sizes are unequal.\n",
      "  DeprecationWarning)\n"
     ]
    },
    {
     "data": {
      "text/plain": [
       "RandomizedSearchCV(cv=3, error_score='raise-deprecating',\n",
       "          estimator=RandomForestClassifier(bootstrap=True, class_weight=None, criterion='gini',\n",
       "            max_depth=None, max_features='auto', max_leaf_nodes=None,\n",
       "            min_impurity_decrease=0.0, min_impurity_split=None,\n",
       "            min_samples_leaf=1, min_samples_split=2,\n",
       "            min_weight_fraction_leaf=0.0, n_estimators='warn', n_jobs=None,\n",
       "            oob_score=False, random_state=None, verbose=0,\n",
       "            warm_start=False),\n",
       "          fit_params=None, iid='warn', n_iter=25, n_jobs=-1,\n",
       "          param_distributions={'n_estimators': [10, 20, 25, 30], 'max_features': ['auto', 'sqrt'], 'max_depth': [5, 10, 15, 20, None], 'min_samples_split': [2, 5, 10], 'min_samples_leaf': [1, 2, 4], 'bootstrap': [True, False]},\n",
       "          pre_dispatch='2*n_jobs', random_state=42, refit=True,\n",
       "          return_train_score='warn', scoring=None, verbose=2)"
      ]
     },
     "execution_count": 101,
     "metadata": {},
     "output_type": "execute_result"
    }
   ],
   "source": [
    "# Use the random grid to search for best hyperparameters\n",
    "# First create the base model to tune\n",
    "rfc = RandomForestClassifier()\n",
    "\n",
    "# Random search of parameters, using 3 fold cross validation: i.e. \"20 percent is used for testing\"\n",
    "# search across 25 different combinations, and use all available cores\n",
    "\n",
    "rfc_random = RandomizedSearchCV(estimator = rfc, param_distributions = random_grid,\n",
    "                                n_iter = 25, cv = 3, verbose=2, random_state=42, n_jobs = -1)\n",
    "\n",
    "# Fit the random search model\n",
    "rfc_random.fit(X_train, y_train)"
   ]
  },
  {
   "cell_type": "code",
   "execution_count": 102,
   "metadata": {},
   "outputs": [
    {
     "data": {
      "text/plain": [
       "{'n_estimators': 30,\n",
       " 'min_samples_split': 2,\n",
       " 'min_samples_leaf': 1,\n",
       " 'max_features': 'sqrt',\n",
       " 'max_depth': 5,\n",
       " 'bootstrap': True}"
      ]
     },
     "execution_count": 102,
     "metadata": {},
     "output_type": "execute_result"
    }
   ],
   "source": [
    "rfc_random.best_params_"
   ]
  },
  {
   "cell_type": "code",
   "execution_count": 106,
   "metadata": {},
   "outputs": [
    {
     "data": {
      "text/plain": [
       "0.75"
      ]
     },
     "execution_count": 106,
     "metadata": {},
     "output_type": "execute_result"
    }
   ],
   "source": [
    "# implementing train-test-split on important features\n",
    "X_train, X_test, y_train, y_test = train_test_split(X, y, test_size=0.40, random_state=1)\n",
    "\n",
    "# random forest model creation\n",
    "rfc = RandomForestClassifier(n_estimators=30,min_samples_split=2,min_samples_leaf=1,max_features='sqrt',\n",
    "                             max_depth = 5, bootstrap = True)\n",
    "rfc.fit(X_train,y_train)\n",
    "\n",
    "# predictions\n",
    "y_predict = rfc.predict(X_test)\n",
    "\n",
    "# AUC Score\n",
    "false_positive_rate, true_positive_rate, thresholds = roc_curve(y_test, y_predict)\n",
    "final_roc_auc= auc(false_positive_rate, true_positive_rate)\n",
    "final_roc_auc"
   ]
  }
 ],
 "metadata": {
  "kernelspec": {
   "display_name": "Python 3",
   "language": "python",
   "name": "python3"
  },
  "language_info": {
   "codemirror_mode": {
    "name": "ipython",
    "version": 3
   },
   "file_extension": ".py",
   "mimetype": "text/x-python",
   "name": "python",
   "nbconvert_exporter": "python",
   "pygments_lexer": "ipython3",
   "version": "3.7.1"
  }
 },
 "nbformat": 4,
 "nbformat_minor": 2
}
