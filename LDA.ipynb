{
 "cells": [
  {
   "cell_type": "code",
   "execution_count": 70,
   "metadata": {},
   "outputs": [],
   "source": [
    "import pandas as pd\n",
    "import numpy as np\n",
    "import pickle\n",
    "from sklearn.discriminant_analysis import LinearDiscriminantAnalysis as LDA\n",
    "import seaborn as sns"
   ]
  },
  {
   "cell_type": "code",
   "execution_count": 22,
   "metadata": {},
   "outputs": [],
   "source": [
    "#prepare data\n",
    "clean = pd.read_pickle(\"Cleaned_data.pkl\")\n",
    "del clean['key_name']\n",
    "del clean['mode_name']\n",
    "del clean['key_mode']\n",
    "del clean['type']\n",
    "del clean['mode']\n",
    "del clean['key']\n",
    "wanted  = clean.columns[1:-1] #remove track name and labels\n",
    "#separate into features/labels\n",
    "features = clean[wanted]\n",
    "labels = clean['is_hit']"
   ]
  },
  {
   "cell_type": "code",
   "execution_count": 71,
   "metadata": {},
   "outputs": [
    {
     "data": {
      "image/png": "[encoded data removed]",
      "text/plain": [
       "<Figure size 432x288 with 1 Axes>"
      ]
     },
     "metadata": {},
     "output_type": "display_data"
    }
   ],
   "source": [
    "labels = np.array(labels)\n",
    "lda = LDA(n_components = 1, solver = \"svd\")  \n",
    "x_lda = lda.fit_transform(features, labels)\n",
    "import seaborn as sns\n",
    "import matplotlib.pyplot as plt\n",
    "clean['pc1'] = x_lda[:,0 ]\n",
    "sns.scatterplot(data=clean[['pc1', 'is_hit']] , x = \"pc1\", y = \"is_hit\", hue = \"is_hit\", style = \"is_hit\").set_title(\"1-function LDA\")\n",
    "plt.show()\n",
    "#source: https://medium.com/journey-2-artificial-intelligence/lda-linear-discriminant-analysis-using-python-2155cf5b6398?fbclid=IwAR2CadfG6IpRyiRYbatbCyaU0crMMZ6BgjXiTX7V0VC-62rXaneYgWiTvT8"
   ]
  },
  {
   "cell_type": "markdown",
   "metadata": {},
   "source": [
    "### We were able to easily differentiate between the classes with high accuracy with just 1 discriminant function. Now let's see what variables played the largest role in this discriminant."
   ]
  },
  {
   "cell_type": "code",
   "execution_count": 58,
   "metadata": {},
   "outputs": [
    {
     "name": "stdout",
     "output_type": "stream",
     "text": [
      "Original coefficients: \n",
      "------------------\n",
      " danceability        0.361950\n",
      "energy             -1.228888\n",
      "loudness            0.068088\n",
      "speechiness         0.125064\n",
      "acousticness       -0.126814\n",
      "instrumentalness   -0.799299\n",
      "liveness           -0.367808\n",
      "valence            -0.529646\n",
      "tempo               0.001417\n",
      "explicit           -0.218003\n",
      "dtype: float64\n",
      "\n",
      "\n",
      "Ordered coefficients: \n",
      "----------\n",
      " energy              1.228888\n",
      "instrumentalness    0.799299\n",
      "valence             0.529646\n",
      "liveness            0.367808\n",
      "danceability        0.361950\n",
      "explicit            0.218003\n",
      "acousticness        0.126814\n",
      "speechiness         0.125064\n",
      "loudness            0.068088\n",
      "tempo               0.001417\n",
      "dtype: float64\n"
     ]
    }
   ],
   "source": [
    "coeffs = pd.Series(lda.coef_.flatten(), index = features.columns)\n",
    "print(\"Original coefficients: \\n------------------\\n\", coeffs)\n",
    "print(\"\\n\\nOrdered coefficients: \\n----------\\n\", coeffs.abs().sort_values(ascending = False))"
   ]
  },
  {
   "cell_type": "markdown",
   "metadata": {},
   "source": [
    "## From examining the largest coefficients of the 1 discriminant function, we can see that the most important variables in determining hit songs are energy and instrumentalness. "
   ]
  },
  {
   "cell_type": "code",
   "execution_count": 68,
   "metadata": {},
   "outputs": [],
   "source": [
    "#save transformed matrix for future use\n",
    "np.save(\"lda_feature_matrix.npy\", x_lda)"
   ]
  }
 ],
 "metadata": {
  "kernelspec": {
   "display_name": "Python 3",
   "language": "python",
   "name": "python3"
  },
  "language_info": {
   "codemirror_mode": {
    "name": "ipython",
    "version": 3
   },
   "file_extension": ".py",
   "mimetype": "text/x-python",
   "name": "python",
   "nbconvert_exporter": "python",
   "pygments_lexer": "ipython3",
   "version": "3.5.2"
  }
 },
 "nbformat": 4,
 "nbformat_minor": 2
}
