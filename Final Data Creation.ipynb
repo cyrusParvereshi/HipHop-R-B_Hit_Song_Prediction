{
 "cells": [
  {
   "cell_type": "markdown",
   "metadata": {},
   "source": [
    "## Getting the Spotify Data Set"
   ]
  },
  {
   "cell_type": "code",
   "execution_count": 257,
   "metadata": {},
   "outputs": [],
   "source": [
    "import pandas as pd"
   ]
  },
  {
   "cell_type": "code",
   "execution_count": 258,
   "metadata": {},
   "outputs": [],
   "source": [
    "spotify_dat = pd.read_pickle('final_artist.pkl') # Used Spoitifyr to get this data set "
   ]
  },
  {
   "cell_type": "code",
   "execution_count": 259,
   "metadata": {},
   "outputs": [],
   "source": [
    "# Subset the year for spotify data so it matches the years we looked at for billboard\n",
    "spotify_dat = spotify_dat.loc[spotify_dat[\"album_release_year\"] >= 2009].reset_index(drop = True)"
   ]
  },
  {
   "cell_type": "markdown",
   "metadata": {},
   "source": [
    "## Combining Spotify with bill board to get hit songs"
   ]
  },
  {
   "cell_type": "code",
   "execution_count": 260,
   "metadata": {},
   "outputs": [],
   "source": [
    "bboard = pd.read_pickle(\"R&B10yrDF.pkl\") # Acquired by cyrus "
   ]
  },
  {
   "cell_type": "code",
   "execution_count": 261,
   "metadata": {},
   "outputs": [],
   "source": [
    "# Checks which songs in spotify data are in the billboard top 100\n",
    "spotify_dat[\"is_hit\"] = spotify_dat['track_name'].isin(bboard[\"Title\"]) \n",
    "\n",
    "# Reference isin function from stack overflow post: https://stackoverflow.com/questions/17071871/select-rows-from-a-dataframe-based-on-values-in-a-column-in-pandas/17071908"
   ]
  },
  {
   "cell_type": "code",
   "execution_count": 262,
   "metadata": {},
   "outputs": [],
   "source": [
    "# Changing the labels for is_hit\n",
    "spotify_dat.loc[spotify_dat[\"is_hit\"] == True, \"is_hit\"] = 1\n",
    "spotify_dat.loc[spotify_dat[\"is_hit\"] == False, \"is_hit\"] = 0\n",
    "\n",
    "# Reference to changing column values based off a condition:\n",
    "# https://stackoverflow.com/questions/31511997/pandas-dataframe-replace-all-values-in-a-column-based-on-condition"
   ]
  },
  {
   "cell_type": "code",
   "execution_count": 263,
   "metadata": {},
   "outputs": [
    {
     "data": {
      "text/plain": [
       "0    44061\n",
       "1     5595\n",
       "Name: is_hit, dtype: int64"
      ]
     },
     "execution_count": 263,
     "metadata": {},
     "output_type": "execute_result"
    }
   ],
   "source": [
    "spotify_dat[\"is_hit\"].value_counts()"
   ]
  },
  {
   "cell_type": "markdown",
   "metadata": {},
   "source": [
    "**Reason for removing songs before 2009**\n",
    "- proportion of hit to not hit is higher\n",
    "- also removing older songs will be more representative of new songs of today's generation"
   ]
  },
  {
   "cell_type": "code",
   "execution_count": 264,
   "metadata": {},
   "outputs": [],
   "source": [
    "spotify_dat.to_pickle(\"merged_data.pkl\")"
   ]
  },
  {
   "cell_type": "markdown",
   "metadata": {},
   "source": [
    "## Cleaning the data set and using only necessary variables"
   ]
  },
  {
   "cell_type": "code",
   "execution_count": 265,
   "metadata": {},
   "outputs": [],
   "source": [
    "cleaned_df = spotify_dat.copy()"
   ]
  },
  {
   "cell_type": "code",
   "execution_count": 266,
   "metadata": {},
   "outputs": [],
   "source": [
    "cleaned_df = cleaned_df.drop([\"artist_name\",\"artist_id\",\"album_type\",\"album_release_date\",\"album_release_year\",\"album_release_date_precision\",\n",
    "                \"track_id\",\"analysis_url\",\"disc_number\",\"available_markets\",\"external_urls.spotify\",\"track_uri\",\"duration_ms\",\"time_signature\",\n",
    "                \"track_number\",\"track_preview_url\",\"is_local\", \"album_id\",\"track_href\",\"album_name\",], axis = 1)"
   ]
  },
  {
   "cell_type": "code",
   "execution_count": 267,
   "metadata": {},
   "outputs": [
    {
     "data": {
      "text/plain": [
       "danceability        float64\n",
       "energy              float64\n",
       "key                   int32\n",
       "loudness            float64\n",
       "mode                  int32\n",
       "speechiness         float64\n",
       "acousticness        float64\n",
       "instrumentalness    float64\n",
       "liveness            float64\n",
       "valence             float64\n",
       "tempo               float64\n",
       "explicit               bool\n",
       "track_name           object\n",
       "type                 object\n",
       "key_name             object\n",
       "mode_name            object\n",
       "key_mode             object\n",
       "is_hit                int64\n",
       "dtype: object"
      ]
     },
     "execution_count": 267,
     "metadata": {},
     "output_type": "execute_result"
    }
   ],
   "source": [
    "cleaned_df.dtypes"
   ]
  },
  {
   "cell_type": "code",
   "execution_count": 268,
   "metadata": {},
   "outputs": [],
   "source": [
    "cleaned_df.loc[spotify_dat[\"explicit\"] == True, \"explicit\"] = 1\n",
    "cleaned_df.loc[spotify_dat[\"explicit\"] == False, \"explicit\"] = 0\n"
   ]
  },
  {
   "cell_type": "code",
   "execution_count": 269,
   "metadata": {},
   "outputs": [],
   "source": [
    "cleaned_df = cleaned_df.set_index(\"track_name\")\n",
    "cleaned_df = cleaned_df.reset_index()"
   ]
  },
  {
   "cell_type": "code",
   "execution_count": 270,
   "metadata": {},
   "outputs": [],
   "source": [
    "cleaned_df.to_pickle(\"Cleaned_data.pkl\")"
   ]
  }
 ],
 "metadata": {
  "kernelspec": {
   "display_name": "Python 3",
   "language": "python",
   "name": "python3"
  },
  "language_info": {
   "codemirror_mode": {
    "name": "ipython",
    "version": 3
   },
   "file_extension": ".py",
   "mimetype": "text/x-python",
   "name": "python",
   "nbconvert_exporter": "python",
   "pygments_lexer": "ipython3",
   "version": "3.7.1"
  }
 },
 "nbformat": 4,
 "nbformat_minor": 2
}
