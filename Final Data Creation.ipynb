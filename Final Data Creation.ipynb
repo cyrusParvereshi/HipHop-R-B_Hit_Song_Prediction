{
 "cells": [
  {
   "cell_type": "markdown",
   "metadata": {},
   "source": [
    "## Getting the Spotify Data Set"
   ]
  },
  {
   "cell_type": "code",
   "execution_count": 205,
   "metadata": {},
   "outputs": [],
   "source": [
    "import pandas as pd"
   ]
  },
  {
   "cell_type": "code",
   "execution_count": 206,
   "metadata": {},
   "outputs": [],
   "source": [
    "spotify_dat = pd.read_pickle('final_artist.pkl') # Used Spoitifyr to get this data set "
   ]
  },
  {
   "cell_type": "code",
   "execution_count": 207,
   "metadata": {},
   "outputs": [],
   "source": [
    "# Subset the year for spotify data so it matches the years we looked at for billboard\n",
    "spotify_dat = spotify_dat.loc[spotify_dat[\"album_release_year\"] >= 2009].reset_index(drop = True)"
   ]
  },
  {
   "cell_type": "markdown",
   "metadata": {},
   "source": [
    "## Combining Spotify with bill board to get hit songs"
   ]
  },
  {
   "cell_type": "code",
   "execution_count": 208,
   "metadata": {},
   "outputs": [],
   "source": [
    "bboard = pd.read_pickle(\"R&B10yrDF.pkl\") # Acquired by cyrus "
   ]
  },
  {
   "cell_type": "code",
   "execution_count": 209,
   "metadata": {},
   "outputs": [],
   "source": [
    "# Checks which songs in spotify data are in the billboard top 100\n",
    "spotify_dat[\"is_hit\"] = spotify_dat['track_name'].isin(bboard[\"Title\"]) \n",
    "\n",
    "# Reference isin function from stack overflow post: https://stackoverflow.com/questions/17071871/select-rows-from-a-dataframe-based-on-values-in-a-column-in-pandas/17071908"
   ]
  },
  {
   "cell_type": "code",
   "execution_count": 212,
   "metadata": {},
   "outputs": [],
   "source": [
    "# Changing the labels for is_hit\n",
    "spotify_dat.loc[spotify_dat[\"is_hit\"] == True, \"is_hit\"] = \"hit\"\n",
    "spotify_dat.loc[spotify_dat[\"is_hit\"] == False, \"is_hit\"] = \"not hit\"\n",
    "\n",
    "# Reference to changing column values based off a condition:\n",
    "# https://stackoverflow.com/questions/31511997/pandas-dataframe-replace-all-values-in-a-column-based-on-condition"
   ]
  },
  {
   "cell_type": "code",
   "execution_count": 211,
   "metadata": {},
   "outputs": [
    {
     "data": {
      "text/plain": [
       "not hit    44061\n",
       "hit         5595\n",
       "Name: is_hit, dtype: int64"
      ]
     },
     "execution_count": 211,
     "metadata": {},
     "output_type": "execute_result"
    }
   ],
   "source": [
    "spotify_dat[\"is_hit\"].value_counts()"
   ]
  },
  {
   "cell_type": "markdown",
   "metadata": {},
   "source": [
    "**Reason for removing songs before 2009**\n",
    "- proportion of hit to not hit is higher\n",
    "- also removing older songs will be more representative of new songs of today's generation"
   ]
  },
  {
   "cell_type": "markdown",
   "metadata": {},
   "source": [
    "## Cleaning the data set and using only necessary variables"
   ]
  }
 ],
 "metadata": {
  "kernelspec": {
   "display_name": "Python 3",
   "language": "python",
   "name": "python3"
  },
  "language_info": {
   "codemirror_mode": {
    "name": "ipython",
    "version": 3
   },
   "file_extension": ".py",
   "mimetype": "text/x-python",
   "name": "python",
   "nbconvert_exporter": "python",
   "pygments_lexer": "ipython3",
   "version": "3.7.1"
  }
 },
 "nbformat": 4,
 "nbformat_minor": 2
}
