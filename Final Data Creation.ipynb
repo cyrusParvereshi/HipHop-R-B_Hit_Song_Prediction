{
 "cells": [
  {
   "cell_type": "markdown",
   "metadata": {},
   "source": [
    "## Getting the Spotify Data Set"
   ]
  },
  {
   "cell_type": "code",
   "execution_count": 2,
   "metadata": {},
   "outputs": [],
   "source": [
    "import pandas as pd"
   ]
  },
  {
   "cell_type": "code",
   "execution_count": 11,
   "metadata": {},
   "outputs": [
    {
     "data": {
      "text/html": [
       "<div>\n",
       "<style scoped>\n",
       "    .dataframe tbody tr th:only-of-type {\n",
       "        vertical-align: middle;\n",
       "    }\n",
       "\n",
       "    .dataframe tbody tr th {\n",
       "        vertical-align: top;\n",
       "    }\n",
       "\n",
       "    .dataframe thead th {\n",
       "        text-align: right;\n",
       "    }\n",
       "</style>\n",
       "<table border=\"1\" class=\"dataframe\">\n",
       "  <thead>\n",
       "    <tr style=\"text-align: right;\">\n",
       "      <th></th>\n",
       "      <th>artist_name</th>\n",
       "      <th>artist_id</th>\n",
       "      <th>album_id</th>\n",
       "      <th>album_type</th>\n",
       "      <th>album_release_date</th>\n",
       "      <th>album_release_year</th>\n",
       "      <th>album_release_date_precision</th>\n",
       "      <th>danceability</th>\n",
       "      <th>energy</th>\n",
       "      <th>key</th>\n",
       "      <th>...</th>\n",
       "      <th>track_name</th>\n",
       "      <th>track_preview_url</th>\n",
       "      <th>track_number</th>\n",
       "      <th>type</th>\n",
       "      <th>track_uri</th>\n",
       "      <th>external_urls.spotify</th>\n",
       "      <th>album_name</th>\n",
       "      <th>key_name</th>\n",
       "      <th>mode_name</th>\n",
       "      <th>key_mode</th>\n",
       "    </tr>\n",
       "  </thead>\n",
       "  <tbody>\n",
       "    <tr>\n",
       "      <th>0</th>\n",
       "      <td>Jill Scott</td>\n",
       "      <td>6AVLthptCPhfrxlHadOBJD</td>\n",
       "      <td>4ZQCIIuabiBLhwrIwfTQhZ</td>\n",
       "      <td>album</td>\n",
       "      <td>2018-09-28</td>\n",
       "      <td>2018.0</td>\n",
       "      <td>day</td>\n",
       "      <td>0.670</td>\n",
       "      <td>0.428</td>\n",
       "      <td>3</td>\n",
       "      <td>...</td>\n",
       "      <td>He Loves Me (Lyzel in E Flat)</td>\n",
       "      <td>NA</td>\n",
       "      <td>1</td>\n",
       "      <td>track</td>\n",
       "      <td>spotify:track:6IbToOgooKtt0sBS86mEzV</td>\n",
       "      <td>https://open.spotify.com/track/6IbToOgooKtt0sB...</td>\n",
       "      <td>By Popular Demand</td>\n",
       "      <td>D#</td>\n",
       "      <td>minor</td>\n",
       "      <td>D# minor</td>\n",
       "    </tr>\n",
       "    <tr>\n",
       "      <th>1</th>\n",
       "      <td>Jill Scott</td>\n",
       "      <td>6AVLthptCPhfrxlHadOBJD</td>\n",
       "      <td>4ZQCIIuabiBLhwrIwfTQhZ</td>\n",
       "      <td>album</td>\n",
       "      <td>2018-09-28</td>\n",
       "      <td>2018.0</td>\n",
       "      <td>day</td>\n",
       "      <td>0.694</td>\n",
       "      <td>0.645</td>\n",
       "      <td>1</td>\n",
       "      <td>...</td>\n",
       "      <td>It's Love</td>\n",
       "      <td>NA</td>\n",
       "      <td>2</td>\n",
       "      <td>track</td>\n",
       "      <td>spotify:track:7D6BSUM8cMOOIwTmzReGLY</td>\n",
       "      <td>https://open.spotify.com/track/7D6BSUM8cMOOIwT...</td>\n",
       "      <td>By Popular Demand</td>\n",
       "      <td>C#</td>\n",
       "      <td>minor</td>\n",
       "      <td>C# minor</td>\n",
       "    </tr>\n",
       "    <tr>\n",
       "      <th>2</th>\n",
       "      <td>Jill Scott</td>\n",
       "      <td>6AVLthptCPhfrxlHadOBJD</td>\n",
       "      <td>4ZQCIIuabiBLhwrIwfTQhZ</td>\n",
       "      <td>album</td>\n",
       "      <td>2018-09-28</td>\n",
       "      <td>2018.0</td>\n",
       "      <td>day</td>\n",
       "      <td>0.750</td>\n",
       "      <td>0.641</td>\n",
       "      <td>1</td>\n",
       "      <td>...</td>\n",
       "      <td>Golden</td>\n",
       "      <td>NA</td>\n",
       "      <td>3</td>\n",
       "      <td>track</td>\n",
       "      <td>spotify:track:6nG1fGvaTh75YfBAdWIRDG</td>\n",
       "      <td>https://open.spotify.com/track/6nG1fGvaTh75YfB...</td>\n",
       "      <td>By Popular Demand</td>\n",
       "      <td>C#</td>\n",
       "      <td>major</td>\n",
       "      <td>C# major</td>\n",
       "    </tr>\n",
       "  </tbody>\n",
       "</table>\n",
       "<p>3 rows × 37 columns</p>\n",
       "</div>"
      ],
      "text/plain": [
       "  artist_name               artist_id                album_id album_type  \\\n",
       "0  Jill Scott  6AVLthptCPhfrxlHadOBJD  4ZQCIIuabiBLhwrIwfTQhZ      album   \n",
       "1  Jill Scott  6AVLthptCPhfrxlHadOBJD  4ZQCIIuabiBLhwrIwfTQhZ      album   \n",
       "2  Jill Scott  6AVLthptCPhfrxlHadOBJD  4ZQCIIuabiBLhwrIwfTQhZ      album   \n",
       "\n",
       "  album_release_date  album_release_year album_release_date_precision  \\\n",
       "0         2018-09-28              2018.0                          day   \n",
       "1         2018-09-28              2018.0                          day   \n",
       "2         2018-09-28              2018.0                          day   \n",
       "\n",
       "   danceability  energy  key    ...                        track_name  \\\n",
       "0         0.670   0.428    3    ...     He Loves Me (Lyzel in E Flat)   \n",
       "1         0.694   0.645    1    ...                         It's Love   \n",
       "2         0.750   0.641    1    ...                            Golden   \n",
       "\n",
       "   track_preview_url  track_number   type  \\\n",
       "0                 NA             1  track   \n",
       "1                 NA             2  track   \n",
       "2                 NA             3  track   \n",
       "\n",
       "                              track_uri  \\\n",
       "0  spotify:track:6IbToOgooKtt0sBS86mEzV   \n",
       "1  spotify:track:7D6BSUM8cMOOIwTmzReGLY   \n",
       "2  spotify:track:6nG1fGvaTh75YfBAdWIRDG   \n",
       "\n",
       "                               external_urls.spotify         album_name  \\\n",
       "0  https://open.spotify.com/track/6IbToOgooKtt0sB...  By Popular Demand   \n",
       "1  https://open.spotify.com/track/7D6BSUM8cMOOIwT...  By Popular Demand   \n",
       "2  https://open.spotify.com/track/6nG1fGvaTh75YfB...  By Popular Demand   \n",
       "\n",
       "   key_name mode_name  key_mode  \n",
       "0        D#     minor  D# minor  \n",
       "1        C#     minor  C# minor  \n",
       "2        C#     major  C# major  \n",
       "\n",
       "[3 rows x 37 columns]"
      ]
     },
     "execution_count": 11,
     "metadata": {},
     "output_type": "execute_result"
    }
   ],
   "source": [
    "spotify_dat = pd.read_pickle('final_artist.pkl') # Used Spoitifyr to get this data set \n",
    "spotify_dat[0:3]"
   ]
  },
  {
   "cell_type": "markdown",
   "metadata": {},
   "source": [
    "## Combining Spotify with bill board to get hit songs"
   ]
  },
  {
   "cell_type": "code",
   "execution_count": 34,
   "metadata": {},
   "outputs": [],
   "source": [
    "bboard = pd.read_pickle(\"R&B10yrDF.pkl\") # Acquired by cyrus "
   ]
  },
  {
   "cell_type": "code",
   "execution_count": 32,
   "metadata": {},
   "outputs": [],
   "source": [
    "# Checks which songs in spotify data are in the billboard top 100\n",
    "spotify_dat[\"is_hit\"] = spotify_dat['track_name'].isin(bboard[\"Title\"]) \n",
    "\n",
    "# Reference isin function from stack overflow post: https://stackoverflow.com/questions/17071871/select-rows-from-a-dataframe-based-on-values-in-a-column-in-pandas/17071908"
   ]
  },
  {
   "cell_type": "code",
   "execution_count": 40,
   "metadata": {},
   "outputs": [],
   "source": [
    "# Changing the labels for is_hit\n",
    "spotify_dat.loc[spotify_dat[\"is_hit\"] == True, \"is_hit\"] = \"hit\"\n",
    "spotify_dat.loc[spotify_dat[\"is_hit\"] == False, \"is_hit\"] = \"not hit\"\n",
    "\n",
    "# Reference to changing column values based off a condition:\n",
    "#https://stackoverflow.com/questions/31511997/pandas-dataframe-replace-all-values-in-a-column-based-on-condition"
   ]
  },
  {
   "cell_type": "code",
   "execution_count": null,
   "metadata": {},
   "outputs": [],
   "source": []
  }
 ],
 "metadata": {
  "kernelspec": {
   "display_name": "Python 3",
   "language": "python",
   "name": "python3"
  },
  "language_info": {
   "codemirror_mode": {
    "name": "ipython",
    "version": 3
   },
   "file_extension": ".py",
   "mimetype": "text/x-python",
   "name": "python",
   "nbconvert_exporter": "python",
   "pygments_lexer": "ipython3",
   "version": "3.7.1"
  }
 },
 "nbformat": 4,
 "nbformat_minor": 2
}
