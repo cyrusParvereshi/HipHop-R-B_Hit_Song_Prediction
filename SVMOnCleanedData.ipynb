{
 "cells": [
  {
   "cell_type": "code",
   "execution_count": 54,
   "metadata": {},
   "outputs": [],
   "source": [
    "import pandas as pd\n",
    "import pickle\n",
    "from sklearn.discriminant_analysis import LinearDiscriminantAnalysis as LDA\n",
    "from sklearn.preprocessing import StandardScaler, PolynomialFeatures\n",
    "from sklearn.model_selection import train_test_split, GridSearchCV\n",
    "from sklearn.svm import LinearSVC, SVC\n",
    "from sklearn.linear_model import SGDClassifier\n",
    "from sklearn.metrics import roc_auc_score\n",
    "#reference that helped with this:\n",
    "#https://stackabuse.com/implementing-lda-in-python-with-scikit-learn/"
   ]
  },
  {
   "cell_type": "code",
   "execution_count": 2,
   "metadata": {},
   "outputs": [],
   "source": [
    "clean = pd.read_pickle(\"Cleaned_data.pkl\")\n",
    "del clean['key_name']\n",
    "del clean['mode_name']\n",
    "del clean['key_mode']\n",
    "del clean['type']"
   ]
  },
  {
   "cell_type": "code",
   "execution_count": 44,
   "metadata": {},
   "outputs": [],
   "source": [
    "wanted  = clean.columns[1:13] #remove track name and labels\n",
    "#separate into features/labels\n",
    "features = clean[wanted]\n",
    "labels = clean['is_hit']\n",
    "#split data 70-30 training/testing\n",
    "X_train, X_test, y_train, y_test = train_test_split(features, labels, test_size=0.3, random_state= 420)  \n",
    "#standardize the data\n",
    "std = StandardScaler()  \n",
    "X_train = std.fit_transform(X_train)  \n",
    "X_test = std.transform(X_test)  \n",
    "# lda = LDA()  \n",
    "# X_train = lda.fit_transform(X_train, y_train)  \n",
    "# X_test = lda.transform(X_test)  \n",
    "# print(X_train)\n",
    "# lda.coef_\n",
    "#lda.explained_variance_ratio_"
   ]
  },
  {
   "cell_type": "code",
   "execution_count": 5,
   "metadata": {},
   "outputs": [
    {
     "name": "stdout",
     "output_type": "stream",
     "text": [
      "0.886822850238\n",
      "0.886822850238\n",
      "0.886822850238\n",
      "0.886822850238\n",
      "0.886822850238\n",
      "0.886822850238\n",
      "0.886822850238\n",
      "0.886822850238\n",
      "0.886822850238\n",
      "0.886822850238\n"
     ]
    }
   ],
   "source": [
    "#Run linear SVM 10 times with different C to find out the best one\n",
    "def runSVM(c):\n",
    "    svm = LinearSVC(C=c)\n",
    "    svm.fit(X_train, y_train)\n",
    "    svm.predict(X_test)\n",
    "    return(svm.score(X_test, y_test))\n",
    "for c in list(range(1,11)):\n",
    "    print(runSVM(c=c)) #we can see from our result that the best C can be almost any C. We'll stick with 2 for later"
   ]
  },
  {
   "cell_type": "code",
   "execution_count": 60,
   "metadata": {},
   "outputs": [
    {
     "data": {
      "text/plain": [
       "0.76646304625092299"
      ]
     },
     "execution_count": 60,
     "metadata": {},
     "output_type": "execute_result"
    }
   ],
   "source": [
    "#now try with polynomial features \n",
    "poly = PolynomialFeatures(degree = 3, include_bias = False)\n",
    "poly_feat = poly.fit_transform(features)\n",
    "#resplit into testing and training\n",
    "X_trainP, X_testP, y_trainP, y_testP = train_test_split(poly_feat, labels, test_size=0.3, random_state= 420)  \n",
    "#redo LinearSVM\n",
    "svm = LinearSVC(C=2) #kept C = 2 from LinearSVC above\n",
    "svm.fit(X_trainP, y_trainP)\n",
    "poly_preds = svm.predict(X_testP)\n",
    "svm.score(X_testP, y_testP) #accuracy went down a good amount, so polynomial features aren't efficient"
   ]
  },
  {
   "cell_type": "code",
   "execution_count": 67,
   "metadata": {},
   "outputs": [
    {
     "name": "stdout",
     "output_type": "stream",
     "text": [
      "{'penalty': 'l1', 'alpha': 0.0001, 'loss': 'hinge'}\n"
     ]
    },
    {
     "data": {
      "text/plain": [
       "0.88753991771915186"
      ]
     },
     "execution_count": 67,
     "metadata": {},
     "output_type": "execute_result"
    }
   ],
   "source": [
    "#use GridSearchCV() to optimize parameters for SGDClassifier\n",
    "sgd = SGDClassifier(max_iter =  5, tol = None)\n",
    "par = {'loss':('hinge', 'huber', 'modified_huber', 'log', 'epsilon_insensitive', 'squared_epsilon_insensitive'), 'alpha':[0.0001, 0.001], 'penalty':['l2', 'l1', 'elasticnet']}\n",
    "gs = GridSearchCV(sgd, par, return_train_score = True)\n",
    "gs.fit(X_train, y_train)\n",
    "print(gs.best_params_)\n",
    "gs.best_score_\n",
    "#gs.fit()"
   ]
  },
  {
   "cell_type": "code",
   "execution_count": 68,
   "metadata": {},
   "outputs": [
    {
     "data": {
      "text/plain": [
       "0.88682285023830298"
      ]
     },
     "execution_count": 68,
     "metadata": {},
     "output_type": "execute_result"
    }
   ],
   "source": [
    "#run SGD with best parameters\n",
    "sgd_best = SGDClassifier(loss = 'hinge', penalty = 'l1', alpha = 0.0001, max_iter = 10000)\n",
    "sgd_best.fit(X_train, y_train)\n",
    "sgdPreds = sgd_best.predict(X_test)\n",
    "sgd_best.score(X_test, y_test)"
   ]
  },
  {
   "cell_type": "markdown",
   "metadata": {},
   "source": [
    "## we get basically the same accuracy as before, so we can assume 88.7% accuracy is pretty much as accurate as we can get. "
   ]
  },
  {
   "cell_type": "code",
   "execution_count": 59,
   "metadata": {},
   "outputs": [
    {
     "data": {
      "text/plain": [
       "0.5"
      ]
     },
     "execution_count": 59,
     "metadata": {},
     "output_type": "execute_result"
    }
   ],
   "source": [
    "#try seeing auc scores\n",
    "svm = LinearSVC(C=2)\n",
    "svm.fit(X_train, y_train)\n",
    "preds = svm.predict(X_test)\n",
    "roc_auc_score(y_test, preds)"
   ]
  },
  {
   "cell_type": "code",
   "execution_count": 65,
   "metadata": {},
   "outputs": [
    {
     "name": "stdout",
     "output_type": "stream",
     "text": [
      "0.513893082915\n",
      "0.5\n"
     ]
    }
   ],
   "source": [
    "print(roc_auc_score(y_testP, poly_preds)) #polynomial performs slightly better from this measure\n",
    "print(roc_auc_score(y_test, sgdPreds))"
   ]
  }
 ],
 "metadata": {
  "kernelspec": {
   "display_name": "Python 3",
   "language": "python",
   "name": "python3"
  },
  "language_info": {
   "codemirror_mode": {
    "name": "ipython",
    "version": 3
   },
   "file_extension": ".py",
   "mimetype": "text/x-python",
   "name": "python",
   "nbconvert_exporter": "python",
   "pygments_lexer": "ipython3",
   "version": "3.5.2"
  }
 },
 "nbformat": 4,
 "nbformat_minor": 2
}
